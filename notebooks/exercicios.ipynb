{
 "cells": [
  {
   "cell_type": "markdown",
   "metadata": {},
   "source": [
    "#### 1.1  Dada a seguinte tupla\n",
    " a) Calcule a temperatura média"
   ]
  },
  {
   "cell_type": "code",
   "execution_count": 1,
   "metadata": {},
   "outputs": [
    {
     "name": "stdout",
     "output_type": "stream",
     "text": [
      "A temperatura média é igual a: 24.33\n"
     ]
    }
   ],
   "source": [
    "dados_sensor: tuple = (23.4, 25.1, 22.9, 24.5, 23.8, 26.3)\n",
    "\n",
    "soma_temperaturas: float = sum(dados_sensor)\n",
    "tamanho_tupla: int = len(dados_sensor)\n",
    "temperatura_media: float = soma_temperaturas / tamanho_tupla\n",
    "\n",
    "print(f\"A temperatura média é igual a: {temperatura_media:.2f}\")\n"
   ]
  },
  {
   "cell_type": "markdown",
   "metadata": {},
   "source": [
    "b) Verifique se a temperatura 24.5 está na tupla."
   ]
  },
  {
   "cell_type": "code",
   "execution_count": 2,
   "metadata": {},
   "outputs": [
    {
     "name": "stdout",
     "output_type": "stream",
     "text": [
      "A temperatura '24.5' está nos dados do sensor.\n"
     ]
    }
   ],
   "source": [
    "temperatura = 24.5\n",
    "\n",
    "if temperatura in dados_sensor:\n",
    "    print(f\"A temperatura '{temperatura}' está nos dados do sensor.\")\n",
    "else:\n",
    "    print(f\"A temperatura {temperatura} não está nos dados do sensor.\")"
   ]
  },
  {
   "cell_type": "markdown",
   "metadata": {},
   "source": [
    "c) Encontre o maior e o menor valor na tupla."
   ]
  },
  {
   "cell_type": "code",
   "execution_count": 3,
   "metadata": {},
   "outputs": [
    {
     "name": "stdout",
     "output_type": "stream",
     "text": [
      "A maior temperatura é 26.3 e a menor temperatura é 22.9.\n"
     ]
    }
   ],
   "source": [
    "maior_temperatura: float = max(dados_sensor)\n",
    "menor_temperatura: float = min(dados_sensor)\n",
    "\n",
    "print(f\"A maior temperatura é {maior_temperatura} e a menor temperatura é {menor_temperatura}.\")"
   ]
  },
  {
   "cell_type": "markdown",
   "metadata": {},
   "source": [
    "#### 1.2: Crie uma função chamada tupla_para_lista que converta uma tupla de dados numéricos em uma lista, permitindo a manipulação posterior."
   ]
  },
  {
   "cell_type": "code",
   "execution_count": 8,
   "metadata": {},
   "outputs": [
    {
     "name": "stdout",
     "output_type": "stream",
     "text": [
      "[1, 2, 3, 5]\n"
     ]
    }
   ],
   "source": [
    "def tupla_para_lista(tupla: tuple) -> list:\n",
    "    \"\"\"\n",
    "    Função que recebe uma tupla e converte para uma lista\n",
    "\n",
    "    :params tupla: Tupla de dados numéricos\n",
    "    :return: Lista de dados numéricos\n",
    "    \"\"\"\n",
    "    if not all(isinstance(item, (int, float)) for item in tupla):\n",
    "        raise TypeError(\"Todos os elementos da tupla devem ser numéricos.\")\n",
    "    \n",
    "    return list(tupla)\n",
    "            \n",
    "def main():\n",
    "    tupla: tuple = (1,2,3,5)\n",
    "    lista: list = tupla_para_lista(tupla)\n",
    "\n",
    "    print(lista)\n",
    "\n",
    "if __name__ == \"__main__\":\n",
    "    main()"
   ]
  },
  {
   "cell_type": "markdown",
   "metadata": {},
   "source": [
    "#### **2. Manipulação de Listas**\n",
    "As listas são coleções mutáveis, o que permite modificar, adicionar ou remover elementos.\n",
    "\n",
    "- **Exercício 2.1:** Dada a lista de números abaixo, execute as seguintes tarefas:\n",
    "\n",
    "  ```python\n",
    "  lista_numeros = [12, 15, 7, 19, 23, 5, 8, 11]\n",
    "  ```\n",
    "\n",
    "  a) Ordene a lista em ordem crescente e decrescente.\n",
    "\n",
    "  b) Encontre os três maiores números da lista.\n",
    "\n",
    "  c) Filtre a lista para manter apenas números maiores que 10.\n",
    "\n",
    "  d) Adicione o número 17 à lista e depois remova o número 5.\n"
   ]
  },
  {
   "cell_type": "code",
   "execution_count": 15,
   "metadata": {},
   "outputs": [
    {
     "name": "stdout",
     "output_type": "stream",
     "text": [
      "Lista ordenada de forma crescente: [5, 7, 8, 11, 12, 15, 19, 23]\n",
      "Lista ordenada de forma decrescente: [23, 19, 15, 12, 11, 8, 7, 5]\n",
      "Os tres maiores numeros da lista são: [15, 19, 23]\n",
      "Os numeros maiores que 10 da lista são: [11, 12, 15, 19, 23]\n",
      "Número 10 adicionado a lista: [5, 7, 8, 11, 12, 15, 19, 23, 10]\n",
      "Número 5 removido da lista: [7, 8, 11, 12, 15, 19, 23, 10]\n"
     ]
    }
   ],
   "source": [
    "lista_numeros: list = [12, 15, 7, 19, 23, 5, 8, 11]\n",
    "\n",
    "lista_numeros.sort()\n",
    "print(f\"Lista ordenada de forma crescente: {lista_numeros}\")\n",
    "\n",
    "lista_numeros.sort(reverse=True)\n",
    "print(f\"Lista ordenada de forma decrescente: {lista_numeros}\")\n",
    "\n",
    "lista_numeros.sort()\n",
    "\n",
    "lista_top3_numeros: list = lista_numeros[5:]\n",
    "print(f\"Os tres maiores numeros da lista são: {lista_top3_numeros}\")\n",
    "\n",
    "print(f\"Os numeros maiores que 10 da lista são: {[num for num in lista_numeros if num > 10]}\")\n",
    "\n",
    "lista_numeros.append(10)\n",
    "print(f\"Número 10 adicionado a lista: {lista_numeros}\")\n",
    "lista_numeros.remove(5)\n",
    "print(f\"Número 5 removido da lista: {lista_numeros}\")\n"
   ]
  },
  {
   "cell_type": "markdown",
   "metadata": {},
   "source": [
    "- **Exercício 2.2:** Crie uma função chamada `multiplica_lista` que receba uma lista de números e um valor escalar, e retorne uma nova lista com cada elemento multiplicado pelo escalar.\n",
    "\n",
    "\n",
    "  "
   ]
  },
  {
   "cell_type": "code",
   "execution_count": 40,
   "metadata": {},
   "outputs": [
    {
     "name": "stdout",
     "output_type": "stream",
     "text": [
      "[2, 4, 6, 8, 10]\n"
     ]
    }
   ],
   "source": [
    "def multiplica_lista(list_numeros: list, escalar: float) -> list:\n",
    "    \"\"\"\n",
    "    Função que recebe uma lista e um escalar e multiplica todos os números dessa função\n",
    "    pelo número escalar fornecido.\n",
    "\n",
    "    :params list_numeros: Lista de números fornecida.\n",
    "    :params escalar: Escalar fornecido.\n",
    "\n",
    "    :return: Lista com números multiplicados pelo escalar.\n",
    "    \"\"\"\n",
    "    list_aux: list = []\n",
    "\n",
    "    if not isinstance(list_numeros, list):\n",
    "        raise TypeError(\"O argumento fornecido não é uma lista!\")\n",
    "        return []\n",
    "    \n",
    "    if not isinstance(escalar, (int, float)) or isinstance(escalar, bool):\n",
    "        raise TypeError(\"O argumento fornecido não é uma inteiro/float!\")\n",
    "        return 0.0\n",
    "    \n",
    "    for num in list_numeros:\n",
    "        if not isinstance(num, (int, float)) or isinstance(num, bool):\n",
    "            raise TypeError(\"O argumento fornecido não é uma inteiro/float!\")\n",
    "            return 0.0\n",
    "        else:\n",
    "            list_aux.append(num * escalar)\n",
    "        \n",
    "    return list_aux\n",
    "\n",
    "def main():\n",
    "    list_numeros: list = [1,2,3,4,5]\n",
    "    escalar: float = 2\n",
    "\n",
    "    print(multiplica_lista(list_numeros, escalar))\n",
    "\n",
    "if __name__ == \"__main__\":\n",
    "    main()"
   ]
  },
  {
   "cell_type": "markdown",
   "metadata": {},
   "source": [
    "- **Exercício 2.3:** Dada uma lista de listas (cada sublista representa um registro de dados), como abaixo:\n",
    "\n",
    "  ```python\n",
    "  dados_alunos = [\n",
    "      [\"Ana\", 85, \"A\"],\n",
    "      [\"Carlos\", 72, \"B\"],\n",
    "      [\"Marina\", 90, \"A\"],\n",
    "      [\"Pedro\", 65, \"C\"]\n",
    "  ]\n",
    "  ```\n",
    "\n",
    "  a) Crie uma função que receba essa lista e retorne uma lista com o nome dos alunos que tiraram nota maior que 80.\n",
    "\n",
    "  b) Ordene essa lista de registros por nota de forma decrescente."
   ]
  },
  {
   "cell_type": "code",
   "execution_count": 45,
   "metadata": {},
   "outputs": [
    {
     "name": "stdout",
     "output_type": "stream",
     "text": [
      "[['Ana', 85, 'A'], ['Marina', 90, 'A']]\n",
      "[['Marina', 90, 'A'], ['Ana', 85, 'A']]\n"
     ]
    }
   ],
   "source": [
    "def filtrar_alunos_por_nota(dados_alunos: list, nota: float) -> list:  \n",
    "    \"\"\"\n",
    "    Função que recebe uma lista de sublistas de dados de alunos e uma nota.\n",
    "    Essa função verifica cada nota registrada de cada aluno e compara com a nota passada como filtro.\n",
    "    Após as verificações, a função retorna uma lista com os alunos filtrados por uma determinada nota.\n",
    "\n",
    "    :params dados_alunos: Lista de sublistas com dados de alunos.\n",
    "    :params nota: Número inteiro/float que servirá como filtragem.\n",
    "\n",
    "    :return: Lista de sublistas com dados de alunos filtrados.\n",
    "    \"\"\"  \n",
    "    lista_aux = [alunos for alunos in dados_alunos if alunos[1] > nota]\n",
    "\n",
    "    return lista_aux\n",
    "\n",
    "def main():\n",
    "    dados_alunos: list = [\n",
    "        [\"Ana\", 85, \"A\"],\n",
    "        [\"Carlos\", 72, \"B\"],\n",
    "        [\"Marina\", 90, \"A\"],\n",
    "        [\"Pedro\", 65, \"C\"]\n",
    "    ]\n",
    "    nota: float = 80\n",
    "\n",
    "    alunos_filtrados: list = filtrar_alunos_por_nota(dados_alunos, nota)\n",
    "    print(alunos_filtrados)\n",
    "    alunos_filtrados.sort(key = lambda alunos_filtrados: alunos_filtrados[1], reverse = True)\n",
    "    print(alunos_filtrados)\n",
    "\n",
    "if __name__ == \"__main__\":\n",
    "    main()"
   ]
  }
 ],
 "metadata": {
  "kernelspec": {
   "display_name": "Python 3",
   "language": "python",
   "name": "python3"
  },
  "language_info": {
   "codemirror_mode": {
    "name": "ipython",
    "version": 3
   },
   "file_extension": ".py",
   "mimetype": "text/x-python",
   "name": "python",
   "nbconvert_exporter": "python",
   "pygments_lexer": "ipython3",
   "version": "3.12.5"
  }
 },
 "nbformat": 4,
 "nbformat_minor": 2
}
