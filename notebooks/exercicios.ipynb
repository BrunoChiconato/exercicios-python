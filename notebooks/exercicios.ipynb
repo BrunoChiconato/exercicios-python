{
 "cells": [
  {
   "cell_type": "code",
   "execution_count": 1,
   "metadata": {},
   "outputs": [
    {
     "name": "stdout",
     "output_type": "stream",
     "text": [
      "A temperatura média é igual a: 24.33\n"
     ]
    }
   ],
   "source": [
    "# 1.1  Dada a seguinte tupla\n",
    "dados_sensor: tuple = (23.4, 25.1, 22.9, 24.5, 23.8, 26.3)\n",
    "\n",
    "# a) Calcule a temperatura média\n",
    "soma_temperaturas: float = sum(dados_sensor)\n",
    "tamanho_tupla: int = len(dados_sensor)\n",
    "temperatura_media: float = soma_temperaturas / tamanho_tupla\n",
    "\n",
    "print(f\"A temperatura média é igual a: {temperatura_media:.2f}\")\n"
   ]
  },
  {
   "cell_type": "code",
   "execution_count": 2,
   "metadata": {},
   "outputs": [
    {
     "name": "stdout",
     "output_type": "stream",
     "text": [
      "A temperatura '24.5' está nos dados do sensor.\n"
     ]
    }
   ],
   "source": [
    "# b) Verifique se a temperatura 24.5 está na tupla.\n",
    "temperatura = 24.5\n",
    "\n",
    "if temperatura in dados_sensor:\n",
    "    print(f\"A temperatura '{temperatura}' está nos dados do sensor.\")\n",
    "else:\n",
    "    print(f\"A temperatura {temperatura} não está nos dados do sensor.\")"
   ]
  },
  {
   "cell_type": "code",
   "execution_count": 3,
   "metadata": {},
   "outputs": [
    {
     "name": "stdout",
     "output_type": "stream",
     "text": [
      "A maior temperatura é 26.3 e a menor temperatura é 22.9.\n"
     ]
    }
   ],
   "source": [
    "# c) Encontre o maior e o menor valor na tupla.\n",
    "maior_temperatura: float = max(dados_sensor)\n",
    "menor_temperatura: float = min(dados_sensor)\n",
    "\n",
    "print(f\"A maior temperatura é {maior_temperatura} e a menor temperatura é {menor_temperatura}.\")"
   ]
  }
 ],
 "metadata": {
  "kernelspec": {
   "display_name": "Python 3",
   "language": "python",
   "name": "python3"
  },
  "language_info": {
   "codemirror_mode": {
    "name": "ipython",
    "version": 3
   },
   "file_extension": ".py",
   "mimetype": "text/x-python",
   "name": "python",
   "nbconvert_exporter": "python",
   "pygments_lexer": "ipython3",
   "version": "3.12.5"
  }
 },
 "nbformat": 4,
 "nbformat_minor": 2
}
