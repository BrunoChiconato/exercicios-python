{
 "cells": [
  {
   "cell_type": "markdown",
   "metadata": {},
   "source": [
    "#### 1.1  Dada a seguinte tupla\n",
    " a) Calcule a temperatura média"
   ]
  },
  {
   "cell_type": "code",
   "execution_count": 1,
   "metadata": {},
   "outputs": [
    {
     "name": "stdout",
     "output_type": "stream",
     "text": [
      "A temperatura média é igual a: 24.33\n"
     ]
    }
   ],
   "source": [
    "dados_sensor: tuple = (23.4, 25.1, 22.9, 24.5, 23.8, 26.3)\n",
    "\n",
    "soma_temperaturas: float = sum(dados_sensor)\n",
    "tamanho_tupla: int = len(dados_sensor)\n",
    "temperatura_media: float = soma_temperaturas / tamanho_tupla\n",
    "\n",
    "print(f\"A temperatura média é igual a: {temperatura_media:.2f}\")\n"
   ]
  },
  {
   "cell_type": "markdown",
   "metadata": {},
   "source": [
    "b) Verifique se a temperatura 24.5 está na tupla."
   ]
  },
  {
   "cell_type": "code",
   "execution_count": 2,
   "metadata": {},
   "outputs": [
    {
     "name": "stdout",
     "output_type": "stream",
     "text": [
      "A temperatura '24.5' está nos dados do sensor.\n"
     ]
    }
   ],
   "source": [
    "temperatura = 24.5\n",
    "\n",
    "if temperatura in dados_sensor:\n",
    "    print(f\"A temperatura '{temperatura}' está nos dados do sensor.\")\n",
    "else:\n",
    "    print(f\"A temperatura {temperatura} não está nos dados do sensor.\")"
   ]
  },
  {
   "cell_type": "markdown",
   "metadata": {},
   "source": [
    "c) Encontre o maior e o menor valor na tupla."
   ]
  },
  {
   "cell_type": "code",
   "execution_count": 3,
   "metadata": {},
   "outputs": [
    {
     "name": "stdout",
     "output_type": "stream",
     "text": [
      "A maior temperatura é 26.3 e a menor temperatura é 22.9.\n"
     ]
    }
   ],
   "source": [
    "maior_temperatura: float = max(dados_sensor)\n",
    "menor_temperatura: float = min(dados_sensor)\n",
    "\n",
    "print(f\"A maior temperatura é {maior_temperatura} e a menor temperatura é {menor_temperatura}.\")"
   ]
  },
  {
   "cell_type": "markdown",
   "metadata": {},
   "source": [
    "#### 1.2: Crie uma função chamada tupla_para_lista que converta uma tupla de dados numéricos em uma lista, permitindo a manipulação posterior."
   ]
  },
  {
   "cell_type": "code",
   "execution_count": 8,
   "metadata": {},
   "outputs": [
    {
     "name": "stdout",
     "output_type": "stream",
     "text": [
      "[1, 2, 3, 5]\n"
     ]
    }
   ],
   "source": [
    "def tupla_para_lista(tupla: tuple) -> list:\n",
    "    \"\"\"\n",
    "    Função que recebe uma tupla e converte para uma lista\n",
    "\n",
    "    :params tupla: Tupla de dados numéricos\n",
    "    :return: Lista de dados numéricos\n",
    "    \"\"\"\n",
    "    lista_aux: list = []\n",
    "\n",
    "    try:\n",
    "        for item in tupla:\n",
    "            if not isinstance(item,(int,float)):\n",
    "                raise TypeError(f\"O elemento '{item}' não é numérico.\")\n",
    "            \n",
    "            lista_aux.append(item)\n",
    "            \n",
    "        return lista_aux\n",
    "    \n",
    "    except Exception as e:\n",
    "        print(f\"Erro: {e} Tente novamente.\")\n",
    "        return []\n",
    "            \n",
    "def main():\n",
    "    tupla: tuple = (1,2,3,5)\n",
    "    lista: list = tupla_para_lista(tupla)\n",
    "\n",
    "    print(lista)\n",
    "\n",
    "if __name__ == \"__main__\":\n",
    "    main()"
   ]
  }
 ],
 "metadata": {
  "kernelspec": {
   "display_name": "Python 3",
   "language": "python",
   "name": "python3"
  },
  "language_info": {
   "codemirror_mode": {
    "name": "ipython",
    "version": 3
   },
   "file_extension": ".py",
   "mimetype": "text/x-python",
   "name": "python",
   "nbconvert_exporter": "python",
   "pygments_lexer": "ipython3",
   "version": "3.12.5"
  }
 },
 "nbformat": 4,
 "nbformat_minor": 2
}
